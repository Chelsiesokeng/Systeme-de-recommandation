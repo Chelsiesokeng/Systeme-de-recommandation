{
 "cells": [
  {
   "cell_type": "code",
   "execution_count": null,
   "id": "1265bf56-52f9-448a-aed9-f9281feb922e",
   "metadata": {},
   "outputs": [],
   "source": [
    "import pandas as pd\n",
    "from elasticsearch import Elasticsearch\n",
    "import json\n",
    "\n",
    "# Lecture du fichier .dat en utilisant pandas pour faciliter le traitement\n",
    "movies_df = pd.read_csv(\"/home/chelsie/ml-1m/movies.dat\", sep=\"::\", engine=\"python\", encoding=\"latin1\", names=[\"movie_id\", \"title\", \"genres\"])\n",
    "\n",
    "# Convertir le DataFrame pandas en une liste de dictionnaires\n",
    "movies_data = movies_df.to_dict(orient=\"records\")\n",
    "\n",
    "# Informations d'authentification pour Elasticsearch\n",
    "username = \"elastic\"\n",
    "password = \"Qn5HOUiNO7V3GWpgxXok1aeE\"\n",
    "\n",
    "# Connexion à Elasticsearch avec authentification\n",
    "es = Elasticsearch(\n",
    "    \"https://2830fc520a954b858492459c95e36087.us-central1.gcp.cloud.es.io:443\",\n",
    "    basic_auth=(username, password)\n",
    ")\n",
    "\n",
    "# Nom de l'index Elasticsearch\n",
    "index_name = \"movies\"\n",
    "\n",
    "# Itérer sur les données et les insérer dans Elasticsearch\n",
    "for movie in movies_data:\n",
    "    es.index(index=index_name, body=json.dumps(movie))\n",
    "\n",
    "print(\"Données insérées dans Elasticsearch avec succès.\")\n"
   ]
  },
  {
   "cell_type": "code",
   "execution_count": null,
   "id": "c758f838-ee9c-496d-b330-f99324204772",
   "metadata": {},
   "outputs": [],
   "source": []
  }
 ],
 "metadata": {
  "kernelspec": {
   "display_name": "Python 3 (ipykernel)",
   "language": "python",
   "name": "python3"
  },
  "language_info": {
   "codemirror_mode": {
    "name": "ipython",
    "version": 3
   },
   "file_extension": ".py",
   "mimetype": "text/x-python",
   "name": "python",
   "nbconvert_exporter": "python",
   "pygments_lexer": "ipython3",
   "version": "3.10.12"
  }
 },
 "nbformat": 4,
 "nbformat_minor": 5
}
